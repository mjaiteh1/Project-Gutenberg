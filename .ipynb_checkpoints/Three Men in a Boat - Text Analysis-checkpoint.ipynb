{
 "cells": [
  {
   "cell_type": "code",
   "execution_count": 60,
   "metadata": {},
   "outputs": [
    {
     "ename": "SyntaxError",
     "evalue": "invalid syntax (<ipython-input-60-ae87bd2da4ca>, line 21)",
     "output_type": "error",
     "traceback": [
      "\u001b[0;36m  File \u001b[0;32m\"<ipython-input-60-ae87bd2da4ca>\"\u001b[0;36m, line \u001b[0;32m21\u001b[0m\n\u001b[0;31m    if key not in stop_words and:\u001b[0m\n\u001b[0m                                ^\u001b[0m\n\u001b[0;31mSyntaxError\u001b[0m\u001b[0;31m:\u001b[0m invalid syntax\n"
     ]
    }
   ],
   "source": [
    "from collections import defaultdict\n",
    "from heapq import heappop, heappush\n",
    "from nltk.corpus import stopwords\n",
    "import re, string\n",
    "\n",
    "\n",
    "def format_word(s):\n",
    "    exclude = set(string.punctuation)\n",
    "    return ''.join(ch for ch in s if ch not in exclude)\n",
    "\n",
    "def remove_number(str):\n",
    "    if re.sub(r'\\d+', '', str) == \"\":\n",
    "        return False\n",
    "    return True\n",
    "\n",
    "def Top20_FrequentWords(dic):\n",
    "    heap = []\n",
    "    Top20 = []\n",
    "    stop_words = set(stopwords.words(\"english\"))\n",
    "    for key, value in dic.items():\n",
    "        if key not in stop_words and:\n",
    "            heapq.heappush(heap,(-value,key))\n",
    "    for i in range(20):\n",
    "        Top20.append(heapq.heappop(heap)[1])\n",
    "    return Top20\n",
    "    \n",
    "def get20LeastFrequentWords(dic):\n",
    "    heap = []\n",
    "    leastFrequent = []\n",
    "    stop_words = set(stopwords.words(\"english\"))\n",
    "    for key, value in dic.items():\n",
    "        if key not in stop_words and remove_number(key):\n",
    "            heapq.heappush(heap,(value,key))\n",
    "    for i in range(80):\n",
    "        leastFrequent.append(heapq.heappop(heap)[1])\n",
    "    return leastFrequent \n",
    "\n",
    "        \n",
    "def main():\n",
    "    \n",
    "    #Reading in text file \n",
    "    file = open(\"308.txt\",\"r\")\n",
    "    \n",
    "    '''\n",
    "        Functions to implement \n",
    "        \n",
    "        1. getTotalNumberOfWords()\n",
    "        2. getTotalUniqueWords()\n",
    "        3. get20MostFrequentWords()\n",
    "        4. get20MostInterestingFrequentWords()\n",
    "        5. get20LeastFrequentWords()\n",
    "        6. getFrequencyOfWord()\n",
    "        7. getChapterQuoteAppears()\n",
    "        8. generateSentence()\n",
    "    '''\n",
    "    #Dictionary =\n",
    "    characters = {\"a\",\"b\",\"c\",\"d\",\"e\",\"f\",\"g\",\n",
    "                  \"h\",\"i\",\"j\",\"k\",\"l\",\"m\",\"n\",\n",
    "                  \"o\",\"p\",\"q\",\"r\",\"s\",\"t\",\n",
    "                  \"u\",\"v\",\"w\",\"x\",\"y\",\"z\"}\n",
    "    wordCount = 0   \n",
    "    dic = defaultdict(int)\n",
    "    for line in file:\n",
    "        #Use Regular expressions to just get the words\n",
    "        for word in line.split():\n",
    "            word = format_word(word)\n",
    "            dic[word.lower()] += 1\n",
    "            wordCount += 1\n",
    "    print(\"Total Number of words:\",wordCount)    \n",
    "    #Using Heaps - For top 20, least frequent \n",
    "    print(Top20_FrequentWords(dic))\n",
    "    print(\"---------------------\")\n",
    "    print(get20LeastFrequentWords(dic))\n",
    "     \n",
    "                \n",
    "    \n",
    "main()"
   ]
  },
  {
   "cell_type": "code",
   "execution_count": 59,
   "metadata": {},
   "outputs": [
    {
     "name": "stdout",
     "output_type": "stream",
     "text": [
      "\n"
     ]
    }
   ],
   "source": [
    "output = re.sub(r'\\d+', '', '56')\n",
    "print(output)"
   ]
  },
  {
   "cell_type": "code",
   "execution_count": null,
   "metadata": {
    "collapsed": true
   },
   "outputs": [],
   "source": []
  }
 ],
 "metadata": {
  "kernelspec": {
   "display_name": "Python 3",
   "language": "python",
   "name": "python3"
  },
  "language_info": {
   "codemirror_mode": {
    "name": "ipython",
    "version": 3
   },
   "file_extension": ".py",
   "mimetype": "text/x-python",
   "name": "python",
   "nbconvert_exporter": "python",
   "pygments_lexer": "ipython3",
   "version": "3.6.1"
  }
 },
 "nbformat": 4,
 "nbformat_minor": 2
}
