{
 "cells": [
  {
   "cell_type": "code",
   "execution_count": 2,
   "metadata": {},
   "outputs": [
    {
     "name": "stdout",
     "output_type": "stream",
     "text": [
      "<_io.TextIOWrapper name='308.txt' mode='r' encoding='UTF-8'>\n"
     ]
    }
   ],
   "source": [
    "def main():\n",
    "    \n",
    "    #Reading in text file \n",
    "    file = open(\"308.txt\",\"r\")\n",
    "    \n",
    "    #Clean file\n",
    "    '''\n",
    "        Functions to implement \n",
    "        \n",
    "        1. getTotalNumberOfWords()\n",
    "        2. getTotalUniqueWords()\n",
    "        3. get20MostFrequentWords()\n",
    "        4. get20MostInterestingFrequentWords()\n",
    "        5. get20LeastFrequentWords()\n",
    "        6. getFrequencyOfWord()\n",
    "        7. getChapterQuoteAppears()\n",
    "        8. generateSentence()\n",
    "    '''\n",
    "    \n",
    "    \n",
    "main()"
   ]
  },
  {
   "cell_type": "code",
   "execution_count": null,
   "metadata": {
    "collapsed": true
   },
   "outputs": [],
   "source": []
  }
 ],
 "metadata": {
  "kernelspec": {
   "display_name": "Python 3",
   "language": "python",
   "name": "python3"
  },
  "language_info": {
   "codemirror_mode": {
    "name": "ipython",
    "version": 3
   },
   "file_extension": ".py",
   "mimetype": "text/x-python",
   "name": "python",
   "nbconvert_exporter": "python",
   "pygments_lexer": "ipython3",
   "version": "3.6.1"
  }
 },
 "nbformat": 4,
 "nbformat_minor": 2
}
